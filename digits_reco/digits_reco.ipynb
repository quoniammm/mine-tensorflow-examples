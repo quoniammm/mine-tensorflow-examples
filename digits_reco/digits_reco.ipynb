{
 "cells": [
  {
   "cell_type": "code",
   "execution_count": 4,
   "metadata": {
    "collapsed": true,
    "deletable": true,
    "editable": true
   },
   "outputs": [],
   "source": [
    "import numpy as np\n",
    "import pandas as pd\n",
    "import tensorflow as tf\n",
    "\n",
    "train_data = pd.read_csv('train.csv')\n",
    "test_data = pd.read_csv(\"test.csv\")"
   ]
  },
  {
   "cell_type": "code",
   "execution_count": 5,
   "metadata": {
    "collapsed": false,
    "deletable": true,
    "editable": true
   },
   "outputs": [],
   "source": [
    "# from tensorflow.examples.tutorials.mnist import input_data\n",
    "# mnist = input_data.read_data_sets(\".\", one_hot=True, reshape=False)"
   ]
  },
  {
   "cell_type": "code",
   "execution_count": 6,
   "metadata": {
    "collapsed": false,
    "deletable": true,
    "editable": true
   },
   "outputs": [
    {
     "name": "stdout",
     "output_type": "stream",
     "text": [
      "<class 'pandas.core.frame.DataFrame'>\n",
      "RangeIndex: 42000 entries, 0 to 41999\n",
      "Columns: 785 entries, label to pixel783\n",
      "dtypes: int64(785)\n",
      "memory usage: 251.5 MB\n"
     ]
    }
   ],
   "source": [
    "train_data.info()"
   ]
  },
  {
   "cell_type": "code",
   "execution_count": 7,
   "metadata": {
    "collapsed": false,
    "deletable": true,
    "editable": true
   },
   "outputs": [
    {
     "name": "stdout",
     "output_type": "stream",
     "text": [
      "<class 'pandas.core.frame.DataFrame'>\n",
      "RangeIndex: 28000 entries, 0 to 27999\n",
      "Columns: 784 entries, pixel0 to pixel783\n",
      "dtypes: int64(784)\n",
      "memory usage: 167.5 MB\n"
     ]
    }
   ],
   "source": [
    "test_data.info()"
   ]
  },
  {
   "cell_type": "code",
   "execution_count": 8,
   "metadata": {
    "collapsed": false,
    "deletable": true,
    "editable": true
   },
   "outputs": [],
   "source": [
    "# one-hot 编码\n",
    "train_d = train_data\n",
    "dummies = pd.get_dummies(train_data['label'], prefix='label', drop_first=False)\n",
    "train_features = train_d.drop('label', axis=1)\n",
    "train_labels = dummies\n",
    "train_data = pd.concat([train_labels, train_features], axis=1)\n",
    "\n",
    "test_features = test_data"
   ]
  },
  {
   "cell_type": "code",
   "execution_count": 9,
   "metadata": {
    "collapsed": false,
    "deletable": true,
    "editable": true
   },
   "outputs": [
    {
     "data": {
      "text/html": [
       "<div>\n",
       "<table border=\"1\" class=\"dataframe\">\n",
       "  <thead>\n",
       "    <tr style=\"text-align: right;\">\n",
       "      <th></th>\n",
       "      <th>label_0</th>\n",
       "      <th>label_1</th>\n",
       "      <th>label_2</th>\n",
       "      <th>label_3</th>\n",
       "      <th>label_4</th>\n",
       "      <th>label_5</th>\n",
       "      <th>label_6</th>\n",
       "      <th>label_7</th>\n",
       "      <th>label_8</th>\n",
       "      <th>label_9</th>\n",
       "      <th>...</th>\n",
       "      <th>pixel774</th>\n",
       "      <th>pixel775</th>\n",
       "      <th>pixel776</th>\n",
       "      <th>pixel777</th>\n",
       "      <th>pixel778</th>\n",
       "      <th>pixel779</th>\n",
       "      <th>pixel780</th>\n",
       "      <th>pixel781</th>\n",
       "      <th>pixel782</th>\n",
       "      <th>pixel783</th>\n",
       "    </tr>\n",
       "  </thead>\n",
       "  <tbody>\n",
       "    <tr>\n",
       "      <th>0</th>\n",
       "      <td>0</td>\n",
       "      <td>1</td>\n",
       "      <td>0</td>\n",
       "      <td>0</td>\n",
       "      <td>0</td>\n",
       "      <td>0</td>\n",
       "      <td>0</td>\n",
       "      <td>0</td>\n",
       "      <td>0</td>\n",
       "      <td>0</td>\n",
       "      <td>...</td>\n",
       "      <td>0</td>\n",
       "      <td>0</td>\n",
       "      <td>0</td>\n",
       "      <td>0</td>\n",
       "      <td>0</td>\n",
       "      <td>0</td>\n",
       "      <td>0</td>\n",
       "      <td>0</td>\n",
       "      <td>0</td>\n",
       "      <td>0</td>\n",
       "    </tr>\n",
       "    <tr>\n",
       "      <th>1</th>\n",
       "      <td>1</td>\n",
       "      <td>0</td>\n",
       "      <td>0</td>\n",
       "      <td>0</td>\n",
       "      <td>0</td>\n",
       "      <td>0</td>\n",
       "      <td>0</td>\n",
       "      <td>0</td>\n",
       "      <td>0</td>\n",
       "      <td>0</td>\n",
       "      <td>...</td>\n",
       "      <td>0</td>\n",
       "      <td>0</td>\n",
       "      <td>0</td>\n",
       "      <td>0</td>\n",
       "      <td>0</td>\n",
       "      <td>0</td>\n",
       "      <td>0</td>\n",
       "      <td>0</td>\n",
       "      <td>0</td>\n",
       "      <td>0</td>\n",
       "    </tr>\n",
       "    <tr>\n",
       "      <th>2</th>\n",
       "      <td>0</td>\n",
       "      <td>1</td>\n",
       "      <td>0</td>\n",
       "      <td>0</td>\n",
       "      <td>0</td>\n",
       "      <td>0</td>\n",
       "      <td>0</td>\n",
       "      <td>0</td>\n",
       "      <td>0</td>\n",
       "      <td>0</td>\n",
       "      <td>...</td>\n",
       "      <td>0</td>\n",
       "      <td>0</td>\n",
       "      <td>0</td>\n",
       "      <td>0</td>\n",
       "      <td>0</td>\n",
       "      <td>0</td>\n",
       "      <td>0</td>\n",
       "      <td>0</td>\n",
       "      <td>0</td>\n",
       "      <td>0</td>\n",
       "    </tr>\n",
       "    <tr>\n",
       "      <th>3</th>\n",
       "      <td>0</td>\n",
       "      <td>0</td>\n",
       "      <td>0</td>\n",
       "      <td>0</td>\n",
       "      <td>1</td>\n",
       "      <td>0</td>\n",
       "      <td>0</td>\n",
       "      <td>0</td>\n",
       "      <td>0</td>\n",
       "      <td>0</td>\n",
       "      <td>...</td>\n",
       "      <td>0</td>\n",
       "      <td>0</td>\n",
       "      <td>0</td>\n",
       "      <td>0</td>\n",
       "      <td>0</td>\n",
       "      <td>0</td>\n",
       "      <td>0</td>\n",
       "      <td>0</td>\n",
       "      <td>0</td>\n",
       "      <td>0</td>\n",
       "    </tr>\n",
       "    <tr>\n",
       "      <th>4</th>\n",
       "      <td>1</td>\n",
       "      <td>0</td>\n",
       "      <td>0</td>\n",
       "      <td>0</td>\n",
       "      <td>0</td>\n",
       "      <td>0</td>\n",
       "      <td>0</td>\n",
       "      <td>0</td>\n",
       "      <td>0</td>\n",
       "      <td>0</td>\n",
       "      <td>...</td>\n",
       "      <td>0</td>\n",
       "      <td>0</td>\n",
       "      <td>0</td>\n",
       "      <td>0</td>\n",
       "      <td>0</td>\n",
       "      <td>0</td>\n",
       "      <td>0</td>\n",
       "      <td>0</td>\n",
       "      <td>0</td>\n",
       "      <td>0</td>\n",
       "    </tr>\n",
       "  </tbody>\n",
       "</table>\n",
       "<p>5 rows × 794 columns</p>\n",
       "</div>"
      ],
      "text/plain": [
       "   label_0  label_1  label_2  label_3  label_4  label_5  label_6  label_7  \\\n",
       "0        0        1        0        0        0        0        0        0   \n",
       "1        1        0        0        0        0        0        0        0   \n",
       "2        0        1        0        0        0        0        0        0   \n",
       "3        0        0        0        0        1        0        0        0   \n",
       "4        1        0        0        0        0        0        0        0   \n",
       "\n",
       "   label_8  label_9    ...     pixel774  pixel775  pixel776  pixel777  \\\n",
       "0        0        0    ...            0         0         0         0   \n",
       "1        0        0    ...            0         0         0         0   \n",
       "2        0        0    ...            0         0         0         0   \n",
       "3        0        0    ...            0         0         0         0   \n",
       "4        0        0    ...            0         0         0         0   \n",
       "\n",
       "   pixel778  pixel779  pixel780  pixel781  pixel782  pixel783  \n",
       "0         0         0         0         0         0         0  \n",
       "1         0         0         0         0         0         0  \n",
       "2         0         0         0         0         0         0  \n",
       "3         0         0         0         0         0         0  \n",
       "4         0         0         0         0         0         0  \n",
       "\n",
       "[5 rows x 794 columns]"
      ]
     },
     "execution_count": 9,
     "metadata": {},
     "output_type": "execute_result"
    }
   ],
   "source": [
    "train_data.head()"
   ]
  },
  {
   "cell_type": "code",
   "execution_count": 10,
   "metadata": {
    "collapsed": false,
    "deletable": true,
    "editable": true
   },
   "outputs": [],
   "source": [
    "# 参数\n",
    "learning_rate = 0.01\n",
    "training_epochs = 200\n",
    "# 如果没有足够内存，可以降低 batch size\n",
    "batch_size = 128  \n",
    "display_step = 1\n",
    "\n",
    "n_input = 784\n",
    "n_classes = 10\n",
    "\n",
    "# 隐藏层特征数量\n",
    "n_hidden_layer1 = 256\n",
    "n_hidden_layer2 = 128\n",
    "\n",
    "\n",
    "# 层权重和偏置项的储存\n",
    "weights = {\n",
    "    'hidden_layer1': tf.Variable(tf.truncated_normal([n_input, n_hidden_layer1])),\n",
    "    'hidden_layer2': tf.Variable(tf.truncated_normal([n_hidden_layer1, n_hidden_layer2])),\n",
    "    'out': tf.Variable(tf.truncated_normal([n_hidden_layer2, n_classes]))\n",
    "}\n",
    "\n",
    "biases = {\n",
    "    'hidden_layer1': tf.Variable(tf.random_normal([n_hidden_layer1])),\n",
    "    'hidden_layer2': tf.Variable(tf.truncated_normal([n_hidden_layer2])),\n",
    "    'out': tf.Variable(tf.random_normal([n_classes]))\n",
    "}\n",
    "\n",
    "# tf Graph input\n",
    "x = tf.placeholder(tf.float32, [None, 784])\n",
    "y = tf.placeholder(tf.float32, [None, n_classes])\n",
    "\n",
    "# x_flat = tf.reshape(x, [-1, n_input])"
   ]
  },
  {
   "cell_type": "code",
   "execution_count": 11,
   "metadata": {
    "collapsed": false,
    "deletable": true,
    "editable": true
   },
   "outputs": [],
   "source": [
    "# ReLU作为隐藏层激活函数\n",
    "layer_1 = tf.add(tf.matmul(x, weights['hidden_layer1']),\\\n",
    "    biases['hidden_layer1'])\n",
    "layer_1 = tf.nn.relu(layer_1)\n",
    "\n",
    "layer_2 = tf.add(tf.matmul(layer_1, weights['hidden_layer2']),\\\n",
    "    biases['hidden_layer2'])\n",
    "layer_2 = tf.nn.relu(layer_2)\n",
    "# 输出层的线性激活函数\n",
    "logits = tf.add(tf.matmul(layer_2, weights['out']), biases['out'])"
   ]
  },
  {
   "cell_type": "code",
   "execution_count": 12,
   "metadata": {
    "collapsed": false,
    "deletable": true,
    "editable": true
   },
   "outputs": [],
   "source": [
    "# Define loss and optimizer\n",
    "cost = tf.reduce_mean(\\\n",
    "    tf.nn.softmax_cross_entropy_with_logits(logits=logits, labels=y))\n",
    "optimizer = tf.train.AdagradOptimizer(learning_rate=learning_rate)\\\n",
    "    .minimize(cost)\n",
    "    \n",
    "# Calculate accuracy\n",
    "correct_prediction = tf.equal(tf.argmax(logits, 1), tf.argmax(y, 1))\n",
    "accuracy = tf.reduce_mean(tf.cast(correct_prediction, tf.float32))"
   ]
  },
  {
   "cell_type": "code",
   "execution_count": 13,
   "metadata": {
    "collapsed": true,
    "deletable": true,
    "editable": true
   },
   "outputs": [],
   "source": [
    "def print_epoch_stats(epoch_i, sess, last_features, last_labels):\n",
    "    \"\"\"\n",
    "    Print cost and validation accuracy of an epoch\n",
    "    \"\"\"\n",
    "    \n",
    "    current_cost = sess.run(\n",
    "        cost,\n",
    "        feed_dict={x: last_features, y: last_labels})\n",
    "    valid_accuracy = sess.run(\n",
    "        accuracy,\n",
    "        feed_dict={x: last_features,y: last_labels})\n",
    "    print('Epoch: {} - Cost: {} Valid Accuracy: {}'.format(\n",
    "        epoch_i,\n",
    "        current_cost,\n",
    "        valid_accuracy))\n",
    "\n",
    "def normalize_grayscale(image_data):\n",
    "    \"\"\"\n",
    "    Normalize the image data with Min-Max scaling to a range of [0.1, 0.9]\n",
    "    :param image_data: The image data to be normalized\n",
    "    :return: Normalized image data\n",
    "    \"\"\"\n",
    "    a = 0.1\n",
    "    b = 0.9\n",
    "    grayscale_min = 0\n",
    "    grayscale_max = 255\n",
    "    return a + ( ( (image_data - grayscale_min)*(b - a) )/( grayscale_max - grayscale_min ) )"
   ]
  },
  {
   "cell_type": "code",
   "execution_count": null,
   "metadata": {
    "collapsed": false,
    "deletable": true,
    "editable": true
   },
   "outputs": [
    {
     "name": "stdout",
     "output_type": "stream",
     "text": [
      "Epoch: 0 - Cost: 571.0138549804688 Valid Accuracy: 0.10466666519641876\n",
      "Epoch: 1 - Cost: 435.8805847167969 Valid Accuracy: 0.12733332812786102\n",
      "Epoch: 2 - Cost: 334.8888244628906 Valid Accuracy: 0.1612619012594223\n",
      "Epoch: 3 - Cost: 273.5429382324219 Valid Accuracy: 0.20538094639778137\n",
      "Epoch: 4 - Cost: 229.50318908691406 Valid Accuracy: 0.21797619760036469\n",
      "Epoch: 5 - Cost: 200.40830993652344 Valid Accuracy: 0.2768095135688782\n",
      "Epoch: 6 - Cost: 179.9172821044922 Valid Accuracy: 0.2938571572303772\n",
      "Epoch: 7 - Cost: 164.9512939453125 Valid Accuracy: 0.3356666564941406\n",
      "Epoch: 8 - Cost: 152.8709716796875 Valid Accuracy: 0.35545238852500916\n",
      "Epoch: 9 - Cost: 142.9115447998047 Valid Accuracy: 0.38366666436195374\n",
      "Epoch: 10 - Cost: 134.47691345214844 Valid Accuracy: 0.4006190598011017\n",
      "Epoch: 11 - Cost: 127.17005920410156 Valid Accuracy: 0.4215952455997467\n",
      "Epoch: 12 - Cost: 120.77884674072266 Valid Accuracy: 0.43799999356269836\n",
      "Epoch: 13 - Cost: 115.12945556640625 Valid Accuracy: 0.453166663646698\n",
      "Epoch: 14 - Cost: 110.07794952392578 Valid Accuracy: 0.46673810482025146\n",
      "Epoch: 15 - Cost: 105.5332260131836 Valid Accuracy: 0.480904757976532\n",
      "Epoch: 16 - Cost: 101.44361877441406 Valid Accuracy: 0.4936666786670685\n",
      "Epoch: 17 - Cost: 97.74732971191406 Valid Accuracy: 0.5058571696281433\n",
      "Epoch: 18 - Cost: 94.40176391601562 Valid Accuracy: 0.5175714492797852\n",
      "Epoch: 19 - Cost: 91.35739135742188 Valid Accuracy: 0.5266904830932617\n",
      "Epoch: 20 - Cost: 88.55035400390625 Valid Accuracy: 0.5351190567016602\n",
      "Epoch: 21 - Cost: 85.95604705810547 Valid Accuracy: 0.5441190600395203\n",
      "Epoch: 22 - Cost: 83.55302429199219 Valid Accuracy: 0.552142858505249\n",
      "Epoch: 23 - Cost: 81.31693267822266 Valid Accuracy: 0.5598095059394836\n",
      "Epoch: 24 - Cost: 79.23394775390625 Valid Accuracy: 0.5669047832489014\n",
      "Epoch: 25 - Cost: 77.28273010253906 Valid Accuracy: 0.5728095173835754\n",
      "Epoch: 26 - Cost: 75.44293212890625 Valid Accuracy: 0.5788094997406006\n",
      "Epoch: 27 - Cost: 73.71199798583984 Valid Accuracy: 0.5843333601951599\n",
      "Epoch: 28 - Cost: 72.07670593261719 Valid Accuracy: 0.590571403503418\n",
      "Epoch: 29 - Cost: 70.53274536132812 Valid Accuracy: 0.5960476398468018\n",
      "Epoch: 30 - Cost: 69.0665512084961 Valid Accuracy: 0.6012380719184875\n",
      "Epoch: 31 - Cost: 67.67086029052734 Valid Accuracy: 0.6069762110710144\n",
      "Epoch: 32 - Cost: 66.34622192382812 Valid Accuracy: 0.6120476126670837\n",
      "Epoch: 33 - Cost: 65.08489227294922 Valid Accuracy: 0.6168333292007446\n",
      "Epoch: 34 - Cost: 63.88557052612305 Valid Accuracy: 0.6215000152587891\n",
      "Epoch: 35 - Cost: 62.73963165283203 Valid Accuracy: 0.6255714297294617\n",
      "Epoch: 36 - Cost: 61.64287567138672 Valid Accuracy: 0.6292856931686401\n",
      "Epoch: 37 - Cost: 60.59275436401367 Valid Accuracy: 0.6328095197677612\n",
      "Epoch: 38 - Cost: 59.5815544128418 Valid Accuracy: 0.6364285945892334\n",
      "Epoch: 39 - Cost: 58.611976623535156 Valid Accuracy: 0.640999972820282\n",
      "Epoch: 40 - Cost: 57.686214447021484 Valid Accuracy: 0.6449999809265137\n",
      "Epoch: 41 - Cost: 56.79792785644531 Valid Accuracy: 0.6490952372550964\n",
      "Epoch: 42 - Cost: 55.947654724121094 Valid Accuracy: 0.6525952219963074\n",
      "Epoch: 43 - Cost: 55.131046295166016 Valid Accuracy: 0.6559761762619019\n",
      "Epoch: 44 - Cost: 54.34288024902344 Valid Accuracy: 0.6590714454650879\n",
      "Epoch: 45 - Cost: 53.584957122802734 Valid Accuracy: 0.6620476245880127\n",
      "Epoch: 46 - Cost: 52.855411529541016 Valid Accuracy: 0.6651904582977295\n",
      "Epoch: 47 - Cost: 52.15366744995117 Valid Accuracy: 0.6682142615318298\n",
      "Epoch: 48 - Cost: 51.47486877441406 Valid Accuracy: 0.6710714101791382\n",
      "Epoch: 67 - Cost: 41.86415100097656 Valid Accuracy: 0.7148571610450745\n",
      "Epoch: 68 - Cost: 41.48406982421875 Valid Accuracy: 0.716785728931427\n",
      "Epoch: 69 - Cost: 41.1131591796875 Valid Accuracy: 0.7180476188659668\n",
      "Epoch: 70 - Cost: 40.75063705444336 Valid Accuracy: 0.7199285626411438\n",
      "Epoch: 71 - Cost: 40.397247314453125 Valid Accuracy: 0.7217618823051453\n",
      "Epoch: 72 - Cost: 40.05207824707031 Valid Accuracy: 0.7233809232711792\n",
      "Epoch: 73 - Cost: 39.71458053588867 Valid Accuracy: 0.7250714302062988\n",
      "Epoch: 74 - Cost: 39.38505172729492 Valid Accuracy: 0.7266666889190674\n"
     ]
    }
   ],
   "source": [
    "init = tf.global_variables_initializer()\n",
    "\n",
    "with tf.Session() as sess:\n",
    "    sess.run(init)\n",
    "    # Training cycle\n",
    "    for epoch in range(training_epochs):\n",
    "        # total_batch = int(mnist.train.num_examples/batch_size)\n",
    "        # Loop over all batches\n",
    "        # for i in range(total_batch):\n",
    "        batch_x, batch_y = normalize_grayscale(train_features), train_labels\n",
    "        # Run optimization op (backprop) and cost op (to get loss value)\n",
    "        sess.run(optimizer, feed_dict={x: batch_x, y: batch_y})\n",
    "        print_epoch_stats(epoch, sess, batch_x, batch_y)\n",
    "    \n",
    "    predictions = sess.run(logits, feed_dict={x: test_features})\n",
    "    test_pre = np.argmax(predictions, 1)\n",
    "    \n",
    "    conv_y_submission = pd.DataFrame({\n",
    "        'ImageId': range(1, 28001), \n",
    "        'Label': test_pre \n",
    "    })\n",
    "\n",
    "    conv_y_submission.head()\n",
    "    print(conv_y_submission)\n",
    "        \n"
   ]
  },
  {
   "cell_type": "code",
   "execution_count": null,
   "metadata": {
    "collapsed": true,
    "deletable": true,
    "editable": true
   },
   "outputs": [],
   "source": [
    "conv_y_submission.to_csv('./conv_submission.csv', index=False)"
   ]
  },
  {
   "cell_type": "code",
   "execution_count": null,
   "metadata": {
    "collapsed": true,
    "deletable": true,
    "editable": true
   },
   "outputs": [],
   "source": []
  }
 ],
 "metadata": {
  "kernelspec": {
   "display_name": "Python 3",
   "language": "python",
   "name": "python3"
  },
  "language_info": {
   "codemirror_mode": {
    "name": "ipython",
    "version": 3
   },
   "file_extension": ".py",
   "mimetype": "text/x-python",
   "name": "python",
   "nbconvert_exporter": "python",
   "pygments_lexer": "ipython3",
   "version": "3.5.3"
  }
 },
 "nbformat": 4,
 "nbformat_minor": 2
}
