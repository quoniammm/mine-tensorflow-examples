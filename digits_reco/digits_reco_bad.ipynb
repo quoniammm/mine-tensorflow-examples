{
 "cells": [
  {
   "cell_type": "code",
   "execution_count": 33,
   "metadata": {
    "collapsed": true,
    "deletable": true,
    "editable": true
   },
   "outputs": [],
   "source": [
    "import numpy as np\n",
    "import pandas as pd\n",
    "import tensorflow as tf"
   ]
  },
  {
   "cell_type": "code",
   "execution_count": 34,
   "metadata": {
    "collapsed": true,
    "deletable": true,
    "editable": true
   },
   "outputs": [],
   "source": [
    "train_data = pd.read_csv('train.csv')\n",
    "test_data = pd.read_csv(\"test.csv\")"
   ]
  },
  {
   "cell_type": "code",
   "execution_count": 78,
   "metadata": {
    "collapsed": false,
    "deletable": true,
    "editable": true
   },
   "outputs": [],
   "source": [
    "def get_chunk(train_data, chunkSize=100):\n",
    "    \n",
    "    dummies = pd.get_dummies(train_data['label'], prefix='label', drop_first=False)\n",
    "    samples = train_data.drop('label', axis=1)\n",
    "    labels = dummies\n",
    "    \n",
    "    datas = pd.concat([labels, samples], axis=1)\n",
    "    random_batch = datas.loc[np.random.randint(42000, size=chunkSize)]\n",
    "    images = random_batch.iloc[:, 10:].values\n",
    "    images = images.astype(np.float)\n",
    "    images = np.multiply(images, 1.0 / 255.0)    \n",
    "    labels = random_batch.iloc[:, 0:10].values\n",
    "    \n",
    "    return images, labels\n",
    "\n",
    "# 定义全连接神经网络\n",
    "class Fcn():\n",
    "    def __init__(self, in_units=784, h1_units=300):\n",
    "        self.in_units = in_units\n",
    "        self.h1_units = h1_units\n",
    "        \n",
    "        self.graph = tf.Graph()\n",
    "\n",
    "        self.train_images = None\n",
    "        self.train_labels = None\n",
    "        self.test_images = None\n",
    "        self.test_labels = None\n",
    "    \n",
    "    def define_graph(self):\n",
    "        with self.graph.as_default():\n",
    "            # 这里定义图谱中的各种变量\n",
    "            self.train_images = tf.placeholder(\n",
    "                tf.float32, shape=(None, self.in_units)\n",
    "            )\n",
    "            self.train_labels  = tf.placeholder(\n",
    "                tf.float32, shape=(None, 10)\n",
    "            )\n",
    "            self.test_images  = tf.placeholder(\n",
    "                tf.float32, shape=(None, self.in_units)\n",
    "            )\n",
    "            \n",
    "            self.w1 = tf.Variable(tf.truncated_normal([self.in_units, self.h1_units], stddev = .1))\n",
    "            self.b1 = tf.Variable(tf.zeros([self.h1_units]))\n",
    "            self.w2 =  tf.Variable(tf.truncated_normal([self.h1_units, 10], stddev = .1))\n",
    "            self.b2 = tf.Variable(tf.zeros([10]))\n",
    "            \n",
    "            self.x = tf.placeholder(tf.float32, [None, self.in_units])\n",
    "            self.keep_prob = tf.placeholder(tf.float32)\n",
    "        \n",
    "            def model(x):\n",
    "                hidden1= tf.nn.relu(tf.matmul(x, self.w1) + self.b1)\n",
    "                hidden1_drop = tf.nn.dropout(hidden1, self.keep_prob)\n",
    "                y = tf.nn.softmax(tf.matmul(hidden1_drop, self.w2) + self.b2)\n",
    "            \n",
    "                return y\n",
    "            \n",
    "            # Training computation. (训练)\n",
    "            logits = model(self.train_images)\n",
    "            self.loss = tf.reduce_mean(\n",
    "                tf.nn.softmax_cross_entropy_with_logits(logits=logits, labels=self.train_labels)\n",
    "            )\n",
    "\n",
    "            # Optimizer. (优化器)\n",
    "            self.optimizer = tf.train.AdagradOptimizer(0.01).minimize(self.loss)\n",
    "\n",
    "            # Predictions for the training, validation, and test data. (预测数据)\n",
    "            self.train_prediction = tf.nn.softmax(logits)\n",
    "            self.test_prediction = tf.nn.softmax(model(self.test_images))\n",
    "    \n",
    "    def run(self):\n",
    "        self.session = tf.Session(graph=self.graph)\n",
    "        with self.session as sess:\n",
    "            tf.global_variables_initializer().run()\n",
    "            print(\"训练开始\")\n",
    "            for i in range(1000):\n",
    "                samples, labels = get_chunk(train_data)\n",
    "                sess.run([], feed_dict={\n",
    "                    self.train_images: samples,\n",
    "                    self.train_labels: labels,\n",
    "                    self.keep_prob: 0.75\n",
    "                })\n",
    "                \n",
    "                if(i % 50 == 0):\n",
    "                    print('{} step'.fromat(i))\n",
    "            \n",
    "            print(\"训练结束\")"
   ]
  },
  {
   "cell_type": "code",
   "execution_count": null,
   "metadata": {
    "collapsed": false,
    "deletable": true,
    "editable": true
   },
   "outputs": [],
   "source": [
    "f = Fcn()\n",
    "f.define_graph()\n",
    "f.run()"
   ]
  },
  {
   "cell_type": "code",
   "execution_count": null,
   "metadata": {
    "collapsed": true,
    "deletable": true,
    "editable": true
   },
   "outputs": [],
   "source": []
  },
  {
   "cell_type": "code",
   "execution_count": null,
   "metadata": {
    "collapsed": true,
    "deletable": true,
    "editable": true
   },
   "outputs": [],
   "source": []
  }
 ],
 "metadata": {
  "kernelspec": {
   "display_name": "Python 3",
   "language": "python",
   "name": "python3"
  },
  "language_info": {
   "codemirror_mode": {
    "name": "ipython",
    "version": 3
   },
   "file_extension": ".py",
   "mimetype": "text/x-python",
   "name": "python",
   "nbconvert_exporter": "python",
   "pygments_lexer": "ipython3",
   "version": "3.5.3"
  }
 },
 "nbformat": 4,
 "nbformat_minor": 2
}
