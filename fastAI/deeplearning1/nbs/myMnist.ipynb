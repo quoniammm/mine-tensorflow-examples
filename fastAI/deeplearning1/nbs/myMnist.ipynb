{
 "cells": [
  {
   "cell_type": "code",
   "execution_count": 1,
   "metadata": {},
   "outputs": [
    {
     "name": "stderr",
     "output_type": "stream",
     "text": [
      "Using TensorFlow backend.\n"
     ]
    }
   ],
   "source": [
    "from utils import *"
   ]
  },
  {
   "cell_type": "code",
   "execution_count": 2,
   "metadata": {
    "collapsed": true
   },
   "outputs": [],
   "source": [
    "path = 'data/mnist/'\n",
    "# path = 'data/mnist/sample' # sample path"
   ]
  },
  {
   "cell_type": "code",
   "execution_count": 3,
   "metadata": {
    "collapsed": true
   },
   "outputs": [],
   "source": [
    "train = pd.read_csv(path + 'train.csv')\n",
    "test = pd.read_csv(path + 'test.csv')"
   ]
  },
  {
   "cell_type": "code",
   "execution_count": 4,
   "metadata": {
    "collapsed": true
   },
   "outputs": [],
   "source": [
    "train = train.values\n",
    "test = test.values\n",
    "# 打乱\n",
    "train = np.random.permutation(train)"
   ]
  },
  {
   "cell_type": "code",
   "execution_count": 5,
   "metadata": {
    "collapsed": true
   },
   "outputs": [],
   "source": [
    "valid = train[:2000, :]\n",
    "valid_data = valid[:, 1:]\n",
    "valid_label = onehot(valid[:, 0])"
   ]
  },
  {
   "cell_type": "code",
   "execution_count": 6,
   "metadata": {
    "collapsed": true
   },
   "outputs": [],
   "source": [
    "train = train[2000:, :]"
   ]
  },
  {
   "cell_type": "code",
   "execution_count": 7,
   "metadata": {
    "collapsed": true
   },
   "outputs": [],
   "source": [
    "train_data = train[:, 1:]\n",
    "train_label = onehot(train[:, 0])"
   ]
  },
  {
   "cell_type": "code",
   "execution_count": 8,
   "metadata": {},
   "outputs": [
    {
     "data": {
      "text/plain": [
       "((40000, 784), (40000, 10), (2000, 10), (2000, 784))"
      ]
     },
     "execution_count": 8,
     "metadata": {},
     "output_type": "execute_result"
    }
   ],
   "source": [
    "train_data.shape, train_label.shape, valid_label.shape, valid_data.shape"
   ]
  },
  {
   "cell_type": "code",
   "execution_count": 9,
   "metadata": {
    "collapsed": true
   },
   "outputs": [],
   "source": [
    "def reshape(data, target_size): return np.reshape(data, target_size)"
   ]
  },
  {
   "cell_type": "code",
   "execution_count": 10,
   "metadata": {},
   "outputs": [
    {
     "data": {
      "text/plain": [
       "((40000, 1, 28, 28), (40000, 10), (2000, 10), (2000, 1, 28, 28))"
      ]
     },
     "execution_count": 10,
     "metadata": {},
     "output_type": "execute_result"
    }
   ],
   "source": [
    "train_data = reshape(train_data, [40000, 1, 28, 28])\n",
    "valid_data = reshape(valid_data, [2000, 1, 28, 28])\n",
    "train_data.shape, train_label.shape, valid_label.shape, valid_data.shape"
   ]
  },
  {
   "cell_type": "code",
   "execution_count": 11,
   "metadata": {
    "collapsed": true
   },
   "outputs": [],
   "source": [
    "mean_px = train_data.mean().astype(np.float32)\n",
    "std_px = train_data.std().astype(np.float32)"
   ]
  },
  {
   "cell_type": "code",
   "execution_count": 12,
   "metadata": {
    "collapsed": true
   },
   "outputs": [],
   "source": [
    "def norm_input(x): return (x-mean_px)/std_px"
   ]
  },
  {
   "cell_type": "code",
   "execution_count": 13,
   "metadata": {
    "collapsed": true
   },
   "outputs": [],
   "source": [
    "BATCH_SIZE = 64"
   ]
  },
  {
   "cell_type": "markdown",
   "metadata": {},
   "source": [
    "# 线性模型"
   ]
  },
  {
   "cell_type": "code",
   "execution_count": 14,
   "metadata": {
    "collapsed": true
   },
   "outputs": [],
   "source": [
    "def get_lin_model():\n",
    "    model = Sequential([\n",
    "        Lambda(norm_input, input_shape=(1,28,28)),\n",
    "        Flatten(),\n",
    "        Dense(10, activation='softmax')\n",
    "        ])\n",
    "    model.compile(Adam(), loss='categorical_crossentropy', metrics=['accuracy'])\n",
    "    return model"
   ]
  },
  {
   "cell_type": "code",
   "execution_count": 15,
   "metadata": {
    "collapsed": true
   },
   "outputs": [],
   "source": [
    "lm = get_lin_model()"
   ]
  },
  {
   "cell_type": "code",
   "execution_count": 16,
   "metadata": {
    "collapsed": true
   },
   "outputs": [],
   "source": [
    "gen = image.ImageDataGenerator()\n",
    "batches = gen.flow(train_data, train_label, batch_size=BATCH_SIZE)\n",
    "val_batches = gen.flow(valid_data, valid_label, batch_size=BATCH_SIZE)"
   ]
  },
  {
   "cell_type": "code",
   "execution_count": 17,
   "metadata": {},
   "outputs": [
    {
     "name": "stdout",
     "output_type": "stream",
     "text": [
      "Epoch 1/1\n",
      "2000/2000 [==============================] - 1s - loss: 1.4026 - acc: 0.5315 - val_loss: 0.7518 - val_acc: 0.7667\n"
     ]
    },
    {
     "data": {
      "text/plain": [
       "<keras.callbacks.History at 0x7fece25f22e8>"
      ]
     },
     "execution_count": 17,
     "metadata": {},
     "output_type": "execute_result"
    }
   ],
   "source": [
    "lm.fit_generator(\n",
    "    batches, \n",
    "    samples_per_epoch=len(train_data) / 20, \n",
    "    nb_epoch=1, \n",
    "    validation_data=val_batches,\n",
    "    nb_val_samples=len(valid_data) / 20\n",
    ")"
   ]
  },
  {
   "cell_type": "code",
   "execution_count": 18,
   "metadata": {},
   "outputs": [
    {
     "name": "stdout",
     "output_type": "stream",
     "text": [
      "Epoch 1/1\n",
      "2000/2000 [==============================] - 0s - loss: 0.6715 - acc: 0.7840 - val_loss: 0.5619 - val_acc: 0.8417\n"
     ]
    },
    {
     "data": {
      "text/plain": [
       "<keras.callbacks.History at 0x7fece25f2400>"
      ]
     },
     "execution_count": 18,
     "metadata": {},
     "output_type": "execute_result"
    }
   ],
   "source": [
    "lm.fit_generator(\n",
    "    batches, \n",
    "    samples_per_epoch=len(train_data) / 20, \n",
    "    nb_epoch=1, \n",
    "    validation_data=val_batches,\n",
    "    nb_val_samples=len(valid_data) / 20\n",
    ")"
   ]
  },
  {
   "cell_type": "markdown",
   "metadata": {
    "collapsed": true
   },
   "source": [
    "# 多层神经网络"
   ]
  },
  {
   "cell_type": "code",
   "execution_count": 19,
   "metadata": {
    "collapsed": true
   },
   "outputs": [],
   "source": [
    "def get_fc_model():\n",
    "    model = Sequential([\n",
    "        Lambda(norm_input, input_shape=(1,28,28)),\n",
    "        Flatten(),\n",
    "        Dense(512, activation='relu'),\n",
    "        Dense(10, activation='softmax')\n",
    "        ])\n",
    "    model.compile(Adam(lr=.01), loss='categorical_crossentropy', metrics=['accuracy'])\n",
    "    return model"
   ]
  },
  {
   "cell_type": "code",
   "execution_count": 20,
   "metadata": {
    "collapsed": true
   },
   "outputs": [],
   "source": [
    "fc = get_fc_model()"
   ]
  },
  {
   "cell_type": "code",
   "execution_count": 21,
   "metadata": {},
   "outputs": [
    {
     "name": "stdout",
     "output_type": "stream",
     "text": [
      "Epoch 1/1\n",
      "40000/40000 [==============================] - 6s - loss: 0.8576 - acc: 0.8798 - val_loss: 0.1976 - val_acc: 0.9455\n"
     ]
    },
    {
     "data": {
      "text/plain": [
       "<keras.callbacks.History at 0x7fc16fae3080>"
      ]
     },
     "execution_count": 21,
     "metadata": {},
     "output_type": "execute_result"
    }
   ],
   "source": [
    "fc.fit_generator(\n",
    "    batches, \n",
    "    samples_per_epoch=batches.n, \n",
    "    nb_epoch=1, \n",
    "    validation_data=val_batches,\n",
    "    nb_val_samples=val_batches.n\n",
    ")"
   ]
  },
  {
   "cell_type": "code",
   "execution_count": 22,
   "metadata": {
    "collapsed": true
   },
   "outputs": [],
   "source": [
    "def get_model():\n",
    "    model = Sequential([\n",
    "        Lambda(norm_input, input_shape=(1,28,28)),\n",
    "        Convolution2D(32,3,3, activation='relu'),\n",
    "        Convolution2D(32,3,3, activation='relu'),\n",
    "        MaxPooling2D(),\n",
    "        Convolution2D(64,3,3, activation='relu'),\n",
    "        Convolution2D(64,3,3, activation='relu'),\n",
    "        MaxPooling2D(),\n",
    "        Flatten(),\n",
    "        Dense(512, activation='relu'),\n",
    "        Dense(10, activation='softmax')\n",
    "        ])\n",
    "    model.compile(Adam(), loss='categorical_crossentropy', metrics=['accuracy'])\n",
    "    return model"
   ]
  },
  {
   "cell_type": "code",
   "execution_count": 23,
   "metadata": {
    "collapsed": true
   },
   "outputs": [],
   "source": [
    "model = get_model()"
   ]
  },
  {
   "cell_type": "code",
   "execution_count": 24,
   "metadata": {},
   "outputs": [
    {
     "name": "stdout",
     "output_type": "stream",
     "text": [
      "Epoch 1/1\n",
      "40000/40000 [==============================] - 15s - loss: 0.1375 - acc: 0.9565 - val_loss: 0.0494 - val_acc: 0.9855\n"
     ]
    },
    {
     "data": {
      "text/plain": [
       "<keras.callbacks.History at 0x7fc16e44db38>"
      ]
     },
     "execution_count": 24,
     "metadata": {},
     "output_type": "execute_result"
    }
   ],
   "source": [
    "model.fit_generator(\n",
    "    batches, \n",
    "    samples_per_epoch=batches.n, \n",
    "    nb_epoch=1, \n",
    "    validation_data=val_batches,\n",
    "    nb_val_samples=val_batches.n\n",
    ")"
   ]
  },
  {
   "cell_type": "markdown",
   "metadata": {},
   "source": [
    "# 数据增强"
   ]
  },
  {
   "cell_type": "code",
   "execution_count": 25,
   "metadata": {
    "collapsed": true
   },
   "outputs": [],
   "source": [
    "model = get_model()"
   ]
  },
  {
   "cell_type": "code",
   "execution_count": 17,
   "metadata": {
    "collapsed": true
   },
   "outputs": [],
   "source": [
    "gen = image.ImageDataGenerator(rotation_range=8, width_shift_range=0.08, shear_range=0.3,\n",
    "                               height_shift_range=0.08, zoom_range=0.08)\n",
    "batches = gen.flow(train_data, train_label, batch_size=BATCH_SIZE)\n",
    "val_batches = gen.flow(valid_data, valid_label, batch_size=BATCH_SIZE)"
   ]
  },
  {
   "cell_type": "code",
   "execution_count": 27,
   "metadata": {},
   "outputs": [
    {
     "name": "stdout",
     "output_type": "stream",
     "text": [
      "Epoch 1/1\n",
      "40000/40000 [==============================] - 15s - loss: 0.2505 - acc: 0.9200 - val_loss: 0.0979 - val_acc: 0.9680\n"
     ]
    },
    {
     "data": {
      "text/plain": [
       "<keras.callbacks.History at 0x7fc1444c2fd0>"
      ]
     },
     "execution_count": 27,
     "metadata": {},
     "output_type": "execute_result"
    }
   ],
   "source": [
    "model.fit_generator(\n",
    "    batches, \n",
    "    samples_per_epoch=batches.n, \n",
    "    nb_epoch=1, \n",
    "    validation_data=val_batches,\n",
    "    nb_val_samples=val_batches.n\n",
    ")"
   ]
  },
  {
   "cell_type": "code",
   "execution_count": 18,
   "metadata": {
    "collapsed": true
   },
   "outputs": [],
   "source": [
    "def get_model_bn_do():\n",
    "    model = Sequential([\n",
    "        Lambda(norm_input, input_shape=(1,28,28)),\n",
    "        Convolution2D(32,3,3, activation='relu'),\n",
    "        BatchNormalization(axis=1),\n",
    "        Convolution2D(32,3,3, activation='relu'),\n",
    "        MaxPooling2D(),\n",
    "        BatchNormalization(axis=1),\n",
    "        Convolution2D(64,3,3, activation='relu'),\n",
    "        BatchNormalization(axis=1),\n",
    "        Convolution2D(64,3,3, activation='relu'),\n",
    "        MaxPooling2D(),\n",
    "        Flatten(),\n",
    "#         BatchNormalization(),\n",
    "        Dense(512, activation='relu'),\n",
    "        BatchNormalization(),\n",
    "        Dropout(0.5),\n",
    "        Dense(10, activation='softmax')\n",
    "        ])\n",
    "    model.compile(Adam(), loss='categorical_crossentropy', metrics=['accuracy'])\n",
    "    return model"
   ]
  },
  {
   "cell_type": "code",
   "execution_count": 19,
   "metadata": {
    "collapsed": true
   },
   "outputs": [],
   "source": [
    "model = get_model_bn_do()"
   ]
  },
  {
   "cell_type": "code",
   "execution_count": 20,
   "metadata": {
    "collapsed": true
   },
   "outputs": [],
   "source": [
    "model.optimizer.lr=0.01"
   ]
  },
  {
   "cell_type": "code",
   "execution_count": 21,
   "metadata": {},
   "outputs": [
    {
     "name": "stdout",
     "output_type": "stream",
     "text": [
      "Epoch 1/4\n",
      "40000/40000 [==============================] - 44s - loss: 0.2628 - acc: 0.9213 - val_loss: 0.1941 - val_acc: 0.9415\n",
      "Epoch 2/4\n",
      "40000/40000 [==============================] - 42s - loss: 0.1200 - acc: 0.9631 - val_loss: 0.1249 - val_acc: 0.9605\n",
      "Epoch 3/4\n",
      "40000/40000 [==============================] - 43s - loss: 0.0963 - acc: 0.9710 - val_loss: 0.0853 - val_acc: 0.9725\n",
      "Epoch 4/4\n",
      "40000/40000 [==============================] - 44s - loss: 0.0889 - acc: 0.9731 - val_loss: 0.1096 - val_acc: 0.9655\n"
     ]
    },
    {
     "data": {
      "text/plain": [
       "<keras.callbacks.History at 0x7efc5a028d30>"
      ]
     },
     "execution_count": 21,
     "metadata": {},
     "output_type": "execute_result"
    }
   ],
   "source": [
    "model.fit_generator(\n",
    "    batches, \n",
    "    samples_per_epoch=batches.n, \n",
    "    nb_epoch=4, \n",
    "    validation_data=val_batches,\n",
    "    nb_val_samples=val_batches.n\n",
    ")"
   ]
  },
  {
   "cell_type": "code",
   "execution_count": 22,
   "metadata": {},
   "outputs": [
    {
     "name": "stdout",
     "output_type": "stream",
     "text": [
      "Epoch 1/1\n",
      "40000/40000 [==============================] - 44s - loss: 0.0858 - acc: 0.9743 - val_loss: 0.1073 - val_acc: 0.9695\n"
     ]
    },
    {
     "data": {
      "text/plain": [
       "<keras.callbacks.History at 0x7efcc758ae10>"
      ]
     },
     "execution_count": 22,
     "metadata": {},
     "output_type": "execute_result"
    }
   ],
   "source": [
    "model.fit_generator(\n",
    "    batches, \n",
    "    samples_per_epoch=batches.n, \n",
    "    nb_epoch=1, \n",
    "    validation_data=val_batches,\n",
    "    nb_val_samples=val_batches.n\n",
    ")"
   ]
  },
  {
   "cell_type": "code",
   "execution_count": 23,
   "metadata": {},
   "outputs": [
    {
     "name": "stdout",
     "output_type": "stream",
     "text": [
      "Epoch 1/1\n",
      "40000/40000 [==============================] - 42s - loss: 0.0774 - acc: 0.9769 - val_loss: 0.0812 - val_acc: 0.9790\n"
     ]
    },
    {
     "data": {
      "text/plain": [
       "<keras.callbacks.History at 0x7efc5a006d68>"
      ]
     },
     "execution_count": 23,
     "metadata": {},
     "output_type": "execute_result"
    }
   ],
   "source": [
    "model.fit_generator(\n",
    "    batches, \n",
    "    samples_per_epoch=batches.n, \n",
    "    nb_epoch=1, \n",
    "    validation_data=val_batches,\n",
    "    nb_val_samples=val_batches.n\n",
    ")"
   ]
  },
  {
   "cell_type": "code",
   "execution_count": 24,
   "metadata": {},
   "outputs": [
    {
     "name": "stdout",
     "output_type": "stream",
     "text": [
      "Epoch 1/1\n",
      "40000/40000 [==============================] - 41s - loss: 0.0781 - acc: 0.9770 - val_loss: 0.1137 - val_acc: 0.9680\n"
     ]
    },
    {
     "data": {
      "text/plain": [
       "<keras.callbacks.History at 0x7efc5a006d30>"
      ]
     },
     "execution_count": 24,
     "metadata": {},
     "output_type": "execute_result"
    }
   ],
   "source": [
    "model.fit_generator(\n",
    "    batches, \n",
    "    samples_per_epoch=batches.n, \n",
    "    nb_epoch=1, \n",
    "    validation_data=val_batches,\n",
    "    nb_val_samples=val_batches.n\n",
    ")"
   ]
  },
  {
   "cell_type": "code",
   "execution_count": 25,
   "metadata": {},
   "outputs": [
    {
     "name": "stdout",
     "output_type": "stream",
     "text": [
      "Epoch 1/1\n",
      "40000/40000 [==============================] - 43s - loss: 0.0763 - acc: 0.9774 - val_loss: 0.0741 - val_acc: 0.9805\n"
     ]
    },
    {
     "data": {
      "text/plain": [
       "<keras.callbacks.History at 0x7efc59ff4d30>"
      ]
     },
     "execution_count": 25,
     "metadata": {},
     "output_type": "execute_result"
    }
   ],
   "source": [
    "model.fit_generator(\n",
    "    batches, \n",
    "    samples_per_epoch=batches.n, \n",
    "    nb_epoch=1, \n",
    "    validation_data=val_batches,\n",
    "    nb_val_samples=val_batches.n\n",
    ")"
   ]
  },
  {
   "cell_type": "code",
   "execution_count": 26,
   "metadata": {},
   "outputs": [
    {
     "name": "stdout",
     "output_type": "stream",
     "text": [
      "Epoch 1/2\n",
      "40000/40000 [==============================] - 43s - loss: 0.0737 - acc: 0.9782 - val_loss: 0.1035 - val_acc: 0.9730\n",
      "Epoch 2/2\n",
      "40000/40000 [==============================] - 44s - loss: 0.0716 - acc: 0.9787 - val_loss: 0.0597 - val_acc: 0.9825\n"
     ]
    },
    {
     "data": {
      "text/plain": [
       "<keras.callbacks.History at 0x7efc5ad49160>"
      ]
     },
     "execution_count": 26,
     "metadata": {},
     "output_type": "execute_result"
    }
   ],
   "source": [
    "model.fit_generator(\n",
    "    batches, \n",
    "    samples_per_epoch=batches.n, \n",
    "    nb_epoch=2, \n",
    "    validation_data=val_batches,\n",
    "    nb_val_samples=val_batches.n\n",
    ")"
   ]
  },
  {
   "cell_type": "code",
   "execution_count": 27,
   "metadata": {},
   "outputs": [
    {
     "name": "stdout",
     "output_type": "stream",
     "text": [
      "Epoch 1/2\n",
      "40000/40000 [==============================] - 44s - loss: 0.0690 - acc: 0.9806 - val_loss: 0.0884 - val_acc: 0.9750\n",
      "Epoch 2/2\n",
      "40000/40000 [==============================] - 43s - loss: 0.0673 - acc: 0.9810 - val_loss: 0.0829 - val_acc: 0.9760.9\n"
     ]
    },
    {
     "data": {
      "text/plain": [
       "<keras.callbacks.History at 0x7efc59fa67b8>"
      ]
     },
     "execution_count": 27,
     "metadata": {},
     "output_type": "execute_result"
    }
   ],
   "source": [
    "model.fit_generator(\n",
    "    batches, \n",
    "    samples_per_epoch=batches.n, \n",
    "    nb_epoch=2, \n",
    "    validation_data=val_batches,\n",
    "    nb_val_samples=val_batches.n\n",
    ")"
   ]
  },
  {
   "cell_type": "code",
   "execution_count": 28,
   "metadata": {},
   "outputs": [
    {
     "name": "stdout",
     "output_type": "stream",
     "text": [
      "Epoch 1/2\n",
      "40000/40000 [==============================] - 43s - loss: 0.0606 - acc: 0.9827 - val_loss: 0.0936 - val_acc: 0.9825\n",
      "Epoch 2/2\n",
      "40000/40000 [==============================] - 44s - loss: 0.0641 - acc: 0.9819 - val_loss: 0.0726 - val_acc: 0.9805\n"
     ]
    },
    {
     "data": {
      "text/plain": [
       "<keras.callbacks.History at 0x7efc59fa6518>"
      ]
     },
     "execution_count": 28,
     "metadata": {},
     "output_type": "execute_result"
    }
   ],
   "source": [
    "model.fit_generator(\n",
    "    batches, \n",
    "    samples_per_epoch=batches.n, \n",
    "    nb_epoch=2, \n",
    "    validation_data=val_batches,\n",
    "    nb_val_samples=val_batches.n\n",
    ")"
   ]
  },
  {
   "cell_type": "code",
   "execution_count": 29,
   "metadata": {},
   "outputs": [
    {
     "name": "stdout",
     "output_type": "stream",
     "text": [
      "Epoch 1/1\n",
      "40000/40000 [==============================] - 44s - loss: 0.0612 - acc: 0.9832 - val_loss: 0.0886 - val_acc: 0.9800\n"
     ]
    },
    {
     "data": {
      "text/plain": [
       "<keras.callbacks.History at 0x7efc59fa6780>"
      ]
     },
     "execution_count": 29,
     "metadata": {},
     "output_type": "execute_result"
    }
   ],
   "source": [
    "model.fit_generator(\n",
    "    batches, \n",
    "    samples_per_epoch=batches.n, \n",
    "    nb_epoch=1, \n",
    "    validation_data=val_batches,\n",
    "    nb_val_samples=val_batches.n\n",
    ")"
   ]
  },
  {
   "cell_type": "code",
   "execution_count": 30,
   "metadata": {},
   "outputs": [
    {
     "name": "stdout",
     "output_type": "stream",
     "text": [
      "Epoch 1/3\n",
      "40000/40000 [==============================] - 42s - loss: 0.0605 - acc: 0.9828 - val_loss: 0.0557 - val_acc: 0.9840\n",
      "Epoch 2/3\n",
      "40000/40000 [==============================] - 42s - loss: 0.0586 - acc: 0.9833 - val_loss: 0.0718 - val_acc: 0.9805\n",
      "Epoch 3/3\n",
      "40000/40000 [==============================] - 41s - loss: 0.0510 - acc: 0.9866 - val_loss: 0.0730 - val_acc: 0.9815\n"
     ]
    },
    {
     "data": {
      "text/plain": [
       "<keras.callbacks.History at 0x7efc59fa6748>"
      ]
     },
     "execution_count": 30,
     "metadata": {},
     "output_type": "execute_result"
    }
   ],
   "source": [
    "model.fit_generator(\n",
    "    batches, \n",
    "    samples_per_epoch=batches.n, \n",
    "    nb_epoch=3, \n",
    "    validation_data=val_batches,\n",
    "    nb_val_samples=val_batches.n\n",
    ")"
   ]
  },
  {
   "cell_type": "code",
   "execution_count": 31,
   "metadata": {},
   "outputs": [
    {
     "name": "stdout",
     "output_type": "stream",
     "text": [
      "Epoch 1/3\n",
      "40000/40000 [==============================] - 42s - loss: 0.0654 - acc: 0.9829 - val_loss: 0.1056 - val_acc: 0.9770\n",
      "Epoch 2/3\n",
      "40000/40000 [==============================] - 43s - loss: 0.0544 - acc: 0.9853 - val_loss: 0.0573 - val_acc: 0.9845\n",
      "Epoch 3/3\n",
      "40000/40000 [==============================] - 44s - loss: 0.0552 - acc: 0.9850 - val_loss: 0.0862 - val_acc: 0.9785\n"
     ]
    },
    {
     "data": {
      "text/plain": [
       "<keras.callbacks.History at 0x7efc59fa6438>"
      ]
     },
     "execution_count": 31,
     "metadata": {},
     "output_type": "execute_result"
    }
   ],
   "source": [
    "model.fit_generator(\n",
    "    batches, \n",
    "    samples_per_epoch=batches.n, \n",
    "    nb_epoch=3, \n",
    "    validation_data=val_batches,\n",
    "    nb_val_samples=val_batches.n\n",
    ")"
   ]
  },
  {
   "cell_type": "code",
   "execution_count": 32,
   "metadata": {},
   "outputs": [
    {
     "name": "stdout",
     "output_type": "stream",
     "text": [
      "Epoch 1/3\n",
      "40000/40000 [==============================] - 43s - loss: 0.0508 - acc: 0.9868 - val_loss: 0.0564 - val_acc: 0.9870\n",
      "Epoch 2/3\n",
      "40000/40000 [==============================] - 42s - loss: 0.0525 - acc: 0.9855 - val_loss: 0.0588 - val_acc: 0.9835\n",
      "Epoch 3/3\n",
      "40000/40000 [==============================] - 43s - loss: 0.0507 - acc: 0.9861 - val_loss: 0.0673 - val_acc: 0.9820\n"
     ]
    },
    {
     "data": {
      "text/plain": [
       "<keras.callbacks.History at 0x7efc59fa6940>"
      ]
     },
     "execution_count": 32,
     "metadata": {},
     "output_type": "execute_result"
    }
   ],
   "source": [
    "model.fit_generator(\n",
    "    batches, \n",
    "    samples_per_epoch=batches.n, \n",
    "    nb_epoch=3, \n",
    "    validation_data=val_batches,\n",
    "    nb_val_samples=val_batches.n\n",
    ")"
   ]
  },
  {
   "cell_type": "code",
   "execution_count": 36,
   "metadata": {},
   "outputs": [
    {
     "name": "stdout",
     "output_type": "stream",
     "text": [
      "Epoch 1/3\n",
      "40000/40000 [==============================] - 42s - loss: 0.0462 - acc: 0.9883 - val_loss: 0.0997 - val_acc: 0.9815\n",
      "Epoch 2/3\n",
      "40000/40000 [==============================] - 44s - loss: 0.0489 - acc: 0.9883 - val_loss: 0.0764 - val_acc: 0.9830\n",
      "Epoch 3/3\n",
      "40000/40000 [==============================] - 42s - loss: 0.0490 - acc: 0.9885 - val_loss: 0.0863 - val_acc: 0.9820\n"
     ]
    },
    {
     "data": {
      "text/plain": [
       "<keras.callbacks.History at 0x7efc59fa6b00>"
      ]
     },
     "execution_count": 36,
     "metadata": {},
     "output_type": "execute_result"
    }
   ],
   "source": [
    "model.fit_generator(\n",
    "    batches, \n",
    "    samples_per_epoch=batches.n, \n",
    "    nb_epoch=3, \n",
    "    validation_data=val_batches,\n",
    "    nb_val_samples=val_batches.n\n",
    ")"
   ]
  },
  {
   "cell_type": "code",
   "execution_count": 39,
   "metadata": {},
   "outputs": [
    {
     "name": "stdout",
     "output_type": "stream",
     "text": [
      "Epoch 1/3\n",
      "40000/40000 [==============================] - 42s - loss: 0.0476 - acc: 0.9885 - val_loss: 0.0827 - val_acc: 0.9855\n",
      "Epoch 2/3\n",
      "40000/40000 [==============================] - 42s - loss: 0.0474 - acc: 0.9895 - val_loss: 0.0677 - val_acc: 0.9850\n",
      "Epoch 3/3\n",
      "40000/40000 [==============================] - 42s - loss: 0.0431 - acc: 0.9896 - val_loss: 0.0855 - val_acc: 0.9855\n"
     ]
    },
    {
     "data": {
      "text/plain": [
       "<keras.callbacks.History at 0x7efc59fb0208>"
      ]
     },
     "execution_count": 39,
     "metadata": {},
     "output_type": "execute_result"
    }
   ],
   "source": [
    "model.fit_generator(\n",
    "    batches, \n",
    "    samples_per_epoch=batches.n, \n",
    "    nb_epoch=3, \n",
    "    validation_data=val_batches,\n",
    "    nb_val_samples=val_batches.n\n",
    ")"
   ]
  },
  {
   "cell_type": "code",
   "execution_count": 40,
   "metadata": {
    "collapsed": true
   },
   "outputs": [],
   "source": [
    "model.optimizer.lr=0.001"
   ]
  },
  {
   "cell_type": "code",
   "execution_count": 42,
   "metadata": {},
   "outputs": [
    {
     "name": "stdout",
     "output_type": "stream",
     "text": [
      "Epoch 1/4\n",
      "40000/40000 [==============================] - 43s - loss: 0.0437 - acc: 0.9896 - val_loss: 0.1190 - val_acc: 0.9810\n",
      "Epoch 2/4\n",
      "40000/40000 [==============================] - 43s - loss: 0.0461 - acc: 0.9899 - val_loss: 0.0805 - val_acc: 0.9845\n",
      "Epoch 3/4\n",
      "40000/40000 [==============================] - 42s - loss: 0.0431 - acc: 0.9907 - val_loss: 0.0652 - val_acc: 0.9855\n",
      "Epoch 4/4\n",
      "40000/40000 [==============================] - 44s - loss: 0.0450 - acc: 0.9905 - val_loss: 0.1064 - val_acc: 0.9820\n"
     ]
    },
    {
     "data": {
      "text/plain": [
       "<keras.callbacks.History at 0x7efc59fb00b8>"
      ]
     },
     "execution_count": 42,
     "metadata": {},
     "output_type": "execute_result"
    }
   ],
   "source": [
    "model.fit_generator(\n",
    "    batches, \n",
    "    samples_per_epoch=batches.n, \n",
    "    nb_epoch=4, \n",
    "    validation_data=val_batches,\n",
    "    nb_val_samples=val_batches.n\n",
    ")"
   ]
  },
  {
   "cell_type": "code",
   "execution_count": 43,
   "metadata": {
    "collapsed": true
   },
   "outputs": [],
   "source": [
    "model.optimizer.lr=0.0001"
   ]
  },
  {
   "cell_type": "code",
   "execution_count": 44,
   "metadata": {},
   "outputs": [
    {
     "name": "stdout",
     "output_type": "stream",
     "text": [
      "Epoch 1/1\n",
      "40000/40000 [==============================] - 42s - loss: 0.0449 - acc: 0.9904 - val_loss: 0.0614 - val_acc: 0.9860\n"
     ]
    },
    {
     "data": {
      "text/plain": [
       "<keras.callbacks.History at 0x7efc59fb0940>"
      ]
     },
     "execution_count": 44,
     "metadata": {},
     "output_type": "execute_result"
    }
   ],
   "source": [
    "model.fit_generator(\n",
    "    batches, \n",
    "    samples_per_epoch=batches.n, \n",
    "    nb_epoch=1, \n",
    "    validation_data=val_batches,\n",
    "    nb_val_samples=val_batches.n\n",
    ")"
   ]
  },
  {
   "cell_type": "code",
   "execution_count": 49,
   "metadata": {},
   "outputs": [
    {
     "name": "stdout",
     "output_type": "stream",
     "text": [
      "Epoch 1/2\n",
      "40000/40000 [==============================] - 43s - loss: 0.0401 - acc: 0.9912 - val_loss: 0.0896 - val_acc: 0.9840\n",
      "Epoch 2/2\n",
      "40000/40000 [==============================] - 42s - loss: 0.0473 - acc: 0.9899 - val_loss: 0.1147 - val_acc: 0.9800\n"
     ]
    },
    {
     "data": {
      "text/plain": [
       "<keras.callbacks.History at 0x7efc59fb09b0>"
      ]
     },
     "execution_count": 49,
     "metadata": {},
     "output_type": "execute_result"
    }
   ],
   "source": [
    "model.fit_generator(\n",
    "    batches, \n",
    "    samples_per_epoch=batches.n, \n",
    "    nb_epoch=2, \n",
    "    validation_data=val_batches,\n",
    "    nb_val_samples=val_batches.n\n",
    ")"
   ]
  },
  {
   "cell_type": "code",
   "execution_count": 67,
   "metadata": {
    "collapsed": true
   },
   "outputs": [],
   "source": [
    "model.optimizer.lr=0.001"
   ]
  },
  {
   "cell_type": "code",
   "execution_count": 74,
   "metadata": {},
   "outputs": [
    {
     "name": "stdout",
     "output_type": "stream",
     "text": [
      "Epoch 1/10\n",
      "40000/40000 [==============================] - 43s - loss: 0.0457 - acc: 0.9922 - val_loss: 0.0570 - val_acc: 0.9945\n",
      "Epoch 2/10\n",
      "40000/40000 [==============================] - 42s - loss: 0.0451 - acc: 0.9921 - val_loss: 0.0839 - val_acc: 0.9880\n",
      "Epoch 3/10\n",
      "40000/40000 [==============================] - 42s - loss: 0.0528 - acc: 0.9906 - val_loss: 0.1021 - val_acc: 0.9865\n",
      "Epoch 4/10\n",
      "40000/40000 [==============================] - 42s - loss: 0.0455 - acc: 0.9922 - val_loss: 0.0815 - val_acc: 0.9875\n",
      "Epoch 5/10\n",
      "40000/40000 [==============================] - 42s - loss: 0.0445 - acc: 0.9917 - val_loss: 0.1078 - val_acc: 0.9845\n",
      "Epoch 6/10\n",
      "40000/40000 [==============================] - 42s - loss: 0.0447 - acc: 0.9920 - val_loss: 0.1327 - val_acc: 0.9825\n",
      "Epoch 7/10\n",
      "40000/40000 [==============================] - 42s - loss: 0.0399 - acc: 0.9930 - val_loss: 0.1032 - val_acc: 0.9870\n",
      "Epoch 8/10\n",
      "40000/40000 [==============================] - 42s - loss: 0.0450 - acc: 0.9922 - val_loss: 0.1163 - val_acc: 0.9860\n",
      "Epoch 9/10\n",
      "40000/40000 [==============================] - 42s - loss: 0.0465 - acc: 0.9921 - val_loss: 0.0966 - val_acc: 0.9875\n",
      "Epoch 10/10\n",
      "40000/40000 [==============================] - 42s - loss: 0.0506 - acc: 0.9924 - val_loss: 0.1040 - val_acc: 0.9875\n"
     ]
    },
    {
     "data": {
      "text/plain": [
       "<keras.callbacks.History at 0x7efc59f11da0>"
      ]
     },
     "execution_count": 74,
     "metadata": {},
     "output_type": "execute_result"
    }
   ],
   "source": [
    "model.fit_generator(\n",
    "    batches, \n",
    "    samples_per_epoch=batches.n, \n",
    "    #samples_per_epoch=2000, \n",
    "    nb_epoch=10, \n",
    "    validation_data=val_batches,\n",
    "    nb_val_samples=val_batches.n\n",
    ")"
   ]
  },
  {
   "cell_type": "code",
   "execution_count": 75,
   "metadata": {
    "collapsed": true
   },
   "outputs": [],
   "source": [
    "preds = model.predict(reshape(test, [28000, 1, 28, 28]))"
   ]
  },
  {
   "cell_type": "code",
   "execution_count": 76,
   "metadata": {
    "collapsed": true
   },
   "outputs": [],
   "source": [
    "pre = np.argmax(preds, 1)"
   ]
  },
  {
   "cell_type": "code",
   "execution_count": 77,
   "metadata": {},
   "outputs": [
    {
     "data": {
      "text/plain": [
       "array([2, 0, 9, 0, 3])"
      ]
     },
     "execution_count": 77,
     "metadata": {},
     "output_type": "execute_result"
    }
   ],
   "source": [
    "pre[:5]"
   ]
  },
  {
   "cell_type": "code",
   "execution_count": 78,
   "metadata": {
    "collapsed": true
   },
   "outputs": [],
   "source": [
    "conv_y_submission = pd.DataFrame({\n",
    "        'ImageId': range(1, 28001), \n",
    "        'Label': pre \n",
    "    })"
   ]
  },
  {
   "cell_type": "code",
   "execution_count": 79,
   "metadata": {
    "collapsed": true
   },
   "outputs": [],
   "source": [
    "conv_y_submission.to_csv('./conv_submission9.csv', index=False)"
   ]
  },
  {
   "cell_type": "code",
   "execution_count": 80,
   "metadata": {
    "collapsed": true
   },
   "outputs": [],
   "source": [
    "# 保存权重\n",
    "path = 'models/mnist/'\n",
    "model.save_weights(path + 'final1.h5')"
   ]
  },
  {
   "cell_type": "code",
   "execution_count": 81,
   "metadata": {
    "collapsed": true
   },
   "outputs": [],
   "source": [
    "# 载入权重\n",
    "model.load_weights(path + 'final1.h5')\n",
    "preds = model.predict(reshape(test, [28000, 1, 28, 28]))\n",
    "pre = np.argmax(preds, 1)"
   ]
  },
  {
   "cell_type": "code",
   "execution_count": 82,
   "metadata": {},
   "outputs": [
    {
     "data": {
      "text/plain": [
       "array([2, 0, 9, 0, 3])"
      ]
     },
     "execution_count": 82,
     "metadata": {},
     "output_type": "execute_result"
    }
   ],
   "source": [
    "pre[:5]"
   ]
  },
  {
   "cell_type": "code",
   "execution_count": null,
   "metadata": {
    "collapsed": true
   },
   "outputs": [],
   "source": []
  }
 ],
 "metadata": {
  "kernelspec": {
   "display_name": "Python 3",
   "language": "python",
   "name": "python3"
  },
  "language_info": {
   "codemirror_mode": {
    "name": "ipython",
    "version": 3
   },
   "file_extension": ".py",
   "mimetype": "text/x-python",
   "name": "python",
   "nbconvert_exporter": "python",
   "pygments_lexer": "ipython3",
   "version": "3.6.2"
  }
 },
 "nbformat": 4,
 "nbformat_minor": 2
}
